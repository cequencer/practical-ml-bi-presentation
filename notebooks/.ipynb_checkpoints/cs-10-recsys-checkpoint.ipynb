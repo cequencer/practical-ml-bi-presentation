{
 "cells": [
  {
   "cell_type": "code",
   "execution_count": 1,
   "metadata": {
    "collapsed": false
   },
   "outputs": [
    {
     "name": "stdout",
     "output_type": "stream",
     "text": [
      "Populating the interactive namespace from numpy and matplotlib\n"
     ]
    }
   ],
   "source": [
    "%pylab inline"
   ]
  },
  {
   "cell_type": "markdown",
   "metadata": {},
   "source": [
    "# Recommender systems"
   ]
  },
  {
   "cell_type": "markdown",
   "metadata": {},
   "source": [
    "Typical machine learning datasets are of the form:"
   ]
  },
  {
   "cell_type": "markdown",
   "metadata": {},
   "source": [
    "$$\n",
    "\\begin{array}{cc}\n",
    "  input&target\\\\\n",
    "  \\mathbf{x}_1&y_1\\\\\n",
    "  \\mathbf{x}_2&y_2\\\\  \n",
    "  \\vdots & \\vdots \\\\\n",
    "  \\mathbf{x}_N&y_N\n",
    "\\end{array}\n",
    "$$"
   ]
  },
  {
   "cell_type": "markdown",
   "metadata": {},
   "source": [
    "a set of input vectors ($\\mathbf{x}_i$) and their associated targets ($y_i$), that we would like to predict.\n",
    "\n",
    "Here it is easy to use standard algorithms like linear regression."
   ]
  },
  {
   "cell_type": "markdown",
   "metadata": {},
   "source": [
    "In recommendation probles, the dataset can be better viewed as:\n",
    "$$\n",
    "\\begin{array}{ccc}\n",
    "  user&item&rating\\\\\n",
    "  u_1&v_1&r(u_1, v_1)\\\\\n",
    "  \\vdots & \\vdots \\\\\n",
    "  u_N&v_N&r(u_N, v_N)\n",
    "\\end{array}\n",
    "$$\n",
    "\n",
    "which is a set of triplets of users, items and ratings which tell us what rating users gave to certain items. These items can be different for all users, so we never had the \"full\" picture.\n",
    "\n",
    "You can visualize this as a matrix completion problem:"
   ]
  },
  {
   "cell_type": "markdown",
   "metadata": {},
   "source": [
    "<img src=\"images/rating_matrix1.png\" height=\"500\" width=\"500\">"
   ]
  },
  {
   "cell_type": "markdown",
   "metadata": {},
   "source": [
    "Alot of ratings are actually missing from this matrix. They are not zero, they are simply missing."
   ]
  },
  {
   "cell_type": "code",
   "execution_count": null,
   "metadata": {
    "collapsed": true
   },
   "outputs": [],
   "source": [
    "## Load the movies"
   ]
  },
  {
   "cell_type": "code",
   "execution_count": 62,
   "metadata": {
    "collapsed": true
   },
   "outputs": [],
   "source": [
    "import numpy as np\n",
    "import pandas as pd\n",
    "import matplotlib.pyplot as plt\n",
    "import time\n",
    "import warnings\n",
    "warnings.filterwarnings('ignore')\n",
    "np.random.seed(1)\n",
    "%matplotlib inline\n",
    "plt.style.use('ggplot')\n",
    "# data = pd.read_csv('ml-20m/ratings_smaller.csv', index_col=0)\n",
    "# movies = pd.read_csv('ml-20m/movies_smaller.csv')\n",
    "\n",
    "data = pd.read_csv('ml-latest-small/ratings.csv')\n",
    "movies = pd.read_csv('ml-latest-small/movies.csv')\n",
    "movies = movies.set_index('movieId')[['title', 'genres']]"
   ]
  },
  {
   "cell_type": "code",
   "execution_count": 63,
   "metadata": {
    "collapsed": false
   },
   "outputs": [
    {
     "name": "stdout",
     "output_type": "stream",
     "text": [
      "668 users\n",
      "10325 movies\n",
      "6897100 possible ratings\n",
      "105339 ratings\n",
      "1.52729408012 % of possible ratings\n"
     ]
    }
   ],
   "source": [
    "# How many users?\n",
    "print data.userId.nunique(), 'users'\n",
    "\n",
    "# How many movies?\n",
    "print data.movieId.nunique(), 'movies'\n",
    "\n",
    "# How possible ratings?\n",
    "print data.userId.nunique() * data.movieId.nunique(), 'possible ratings'\n",
    "\n",
    "# How many do we have?\n",
    "print len(data), 'ratings'\n",
    "print 100 * (float(len(data)) / (data.userId.nunique() * data.movieId.nunique())), '% of possible ratings'\n",
    "\n",
    "# Less than 1%!"
   ]
  },
  {
   "cell_type": "markdown",
   "metadata": {},
   "source": [
    "### MovieLens small dataset.\n",
    "### We have:\n",
    "- ### 700 Users\n",
    "- ### 10,000 Movies\n",
    "- ### This means 7,000,000 possible ratings.\n",
    "- ### We have 100,000 ratings, so about 1.5% of all possible ratings."
   ]
  },
  {
   "cell_type": "code",
   "execution_count": 64,
   "metadata": {
    "collapsed": false
   },
   "outputs": [
    {
     "data": {
      "text/plain": [
       "<matplotlib.text.Text at 0x49106518>"
      ]
     },
     "execution_count": 64,
     "metadata": {},
     "output_type": "execute_result"
    },
    {
     "data": {
      "image/png": "[encoded data removed]",
      "text/plain": [
       "<matplotlib.figure.Figure at 0x48c96860>"
      ]
     },
     "metadata": {},
     "output_type": "display_data"
    }
   ],
   "source": [
    "# Number of ratings per users\n",
    "fig = plt.figure(figsize=(10, 10))\n",
    "ax = plt.hist(data.groupby('userId').apply(lambda x: len(x)).values, bins=50)\n",
    "plt.title(\"Number of ratings per user\")"
   ]
  },
  {
   "cell_type": "code",
   "execution_count": 5,
   "metadata": {
    "collapsed": false
   },
   "outputs": [
    {
     "data": {
      "text/plain": [
       "<matplotlib.text.Text at 0xc14a1d0>"
      ]
     },
     "execution_count": 5,
     "metadata": {},
     "output_type": "execute_result"
    },
    {
     "data": {
      "image/png": "[encoded data removed]",
      "text/plain": [
       "<matplotlib.figure.Figure at 0xbbbb710>"
      ]
     },
     "metadata": {},
     "output_type": "display_data"
    }
   ],
   "source": [
    "# Number of ratings per movie\n",
    "fig = plt.figure(figsize=(10, 10))\n",
    "ax = plt.hist(data.groupby('movieId').apply(lambda x: len(x)).values, bins=50)\n",
    "plt.title('Number of ratings per movie')"
   ]
  },
  {
   "cell_type": "code",
   "execution_count": 6,
   "metadata": {
    "collapsed": false
   },
   "outputs": [
    {
     "data": {
      "text/plain": [
       "<matplotlib.text.Text at 0xbf33208>"
      ]
     },
     "execution_count": 6,
     "metadata": {},
     "output_type": "execute_result"
    },
    {
     "data": {
      "image/png": "[encoded data removed]",
      "text/plain": [
       "<matplotlib.figure.Figure at 0xbd5b908>"
      ]
     },
     "metadata": {},
     "output_type": "display_data"
    }
   ],
   "source": [
    "# Ratings distribution\n",
    "fig = plt.figure(figsize=(10, 10))\n",
    "ax = plt.hist(data.rating.values, bins=5)\n",
    "plt.title(\"Distribution of ratings\")"
   ]
  },
  {
   "cell_type": "code",
   "execution_count": 47,
   "metadata": {
    "collapsed": false
   },
   "outputs": [
    {
     "data": {
      "text/plain": [
       "<matplotlib.text.Text at 0x934cf28>"
      ]
     },
     "execution_count": 47,
     "metadata": {},
     "output_type": "execute_result"
    },
    {
     "data": {
      "image/png": "[encoded data removed]",
      "text/plain": [
       "<matplotlib.figure.Figure at 0xe0c4e80>"
      ]
     },
     "metadata": {},
     "output_type": "display_data"
    }
   ],
   "source": [
    "# Average rating per user\n",
    "fig = plt.figure(figsize=(10, 10))\n",
    "ax = plt.hist(data.groupby('userId').rating.mean().values, bins=10)\n",
    "plt.title(\"Average rating per user\")"
   ]
  },
  {
   "cell_type": "code",
   "execution_count": 8,
   "metadata": {
    "collapsed": false
   },
   "outputs": [
    {
     "data": {
      "text/plain": [
       "<matplotlib.text.Text at 0xc443588>"
      ]
     },
     "execution_count": 8,
     "metadata": {},
     "output_type": "execute_result"
    },
    {
     "data": {
      "image/png": "[encoded data removed]",
      "text/plain": [
       "<matplotlib.figure.Figure at 0xc41a9e8>"
      ]
     },
     "metadata": {},
     "output_type": "display_data"
    }
   ],
   "source": [
    "# Average rating per movie\n",
    "fig = plt.figure(figsize=(10, 10))\n",
    "ax = plt.hist(data.groupby('movieId').rating.mean().values, bins=10)\n",
    "plt.title('Average rating per movie')"
   ]
  },
  {
   "cell_type": "code",
   "execution_count": 9,
   "metadata": {
    "collapsed": false
   },
   "outputs": [
    {
     "data": {
      "text/html": [
       "<div>\n",
       "<table border=\"1\" class=\"dataframe\">\n",
       "  <thead>\n",
       "    <tr style=\"text-align: right;\">\n",
       "      <th></th>\n",
       "      <th>title</th>\n",
       "      <th>genres</th>\n",
       "      <th>rating</th>\n",
       "    </tr>\n",
       "    <tr>\n",
       "      <th>movieId</th>\n",
       "      <th></th>\n",
       "      <th></th>\n",
       "      <th></th>\n",
       "    </tr>\n",
       "  </thead>\n",
       "  <tbody>\n",
       "    <tr>\n",
       "      <th>465</th>\n",
       "      <td>Heaven &amp; Earth (1993)</td>\n",
       "      <td>Action|Drama|War</td>\n",
       "      <td>5</td>\n",
       "    </tr>\n",
       "    <tr>\n",
       "      <th>111387</th>\n",
       "      <td>Palo Alto (2013)</td>\n",
       "      <td>Drama</td>\n",
       "      <td>5</td>\n",
       "    </tr>\n",
       "    <tr>\n",
       "      <th>1757</th>\n",
       "      <td>Fallen Angels (Duo luo tian shi) (1995)</td>\n",
       "      <td>Drama|Romance</td>\n",
       "      <td>5</td>\n",
       "    </tr>\n",
       "    <tr>\n",
       "      <th>5003</th>\n",
       "      <td>Nine Lives of Fritz the Cat, The (1974)</td>\n",
       "      <td>Animation</td>\n",
       "      <td>5</td>\n",
       "    </tr>\n",
       "    <tr>\n",
       "      <th>5007</th>\n",
       "      <td>Topkapi (1964)</td>\n",
       "      <td>Adventure|Comedy|Thriller</td>\n",
       "      <td>5</td>\n",
       "    </tr>\n",
       "    <tr>\n",
       "      <th>5037</th>\n",
       "      <td>Long Gray Line, The (1955)</td>\n",
       "      <td>Drama</td>\n",
       "      <td>5</td>\n",
       "    </tr>\n",
       "    <tr>\n",
       "      <th>5042</th>\n",
       "      <td>Forbidden Zone (1980)</td>\n",
       "      <td>Musical|Sci-Fi</td>\n",
       "      <td>5</td>\n",
       "    </tr>\n",
       "    <tr>\n",
       "      <th>91007</th>\n",
       "      <td>I Want to Be a Soldier (2011)</td>\n",
       "      <td>Drama</td>\n",
       "      <td>5</td>\n",
       "    </tr>\n",
       "    <tr>\n",
       "      <th>5056</th>\n",
       "      <td>Enigma of Kaspar Hauser, The (a.k.a. Mystery o...</td>\n",
       "      <td>Crime|Drama</td>\n",
       "      <td>5</td>\n",
       "    </tr>\n",
       "    <tr>\n",
       "      <th>5090</th>\n",
       "      <td>Hunchback of Notre Dame, The (Notre Dame de Pa...</td>\n",
       "      <td>Drama</td>\n",
       "      <td>5</td>\n",
       "    </tr>\n",
       "  </tbody>\n",
       "</table>\n",
       "</div>"
      ],
      "text/plain": [
       "                                                     title  \\\n",
       "movieId                                                      \n",
       "465                                  Heaven & Earth (1993)   \n",
       "111387                                    Palo Alto (2013)   \n",
       "1757               Fallen Angels (Duo luo tian shi) (1995)   \n",
       "5003               Nine Lives of Fritz the Cat, The (1974)   \n",
       "5007                                        Topkapi (1964)   \n",
       "5037                            Long Gray Line, The (1955)   \n",
       "5042                                 Forbidden Zone (1980)   \n",
       "91007                        I Want to Be a Soldier (2011)   \n",
       "5056     Enigma of Kaspar Hauser, The (a.k.a. Mystery o...   \n",
       "5090     Hunchback of Notre Dame, The (Notre Dame de Pa...   \n",
       "\n",
       "                            genres  rating  \n",
       "movieId                                     \n",
       "465               Action|Drama|War       5  \n",
       "111387                       Drama       5  \n",
       "1757                 Drama|Romance       5  \n",
       "5003                     Animation       5  \n",
       "5007     Adventure|Comedy|Thriller       5  \n",
       "5037                         Drama       5  \n",
       "5042                Musical|Sci-Fi       5  \n",
       "91007                        Drama       5  \n",
       "5056                   Crime|Drama       5  \n",
       "5090                         Drama       5  "
      ]
     },
     "execution_count": 9,
     "metadata": {},
     "output_type": "execute_result"
    }
   ],
   "source": [
    "# Top Movies\n",
    "average_movie_rating = data.groupby('movieId').mean()\n",
    "top_movies = average_movie_rating.sort_values('rating', ascending=False).head(10)\n",
    "pd.concat([movies.loc[top_movies.index.values],\n",
    "           average_movie_rating.loc[top_movies.index.values].rating], axis=1)"
   ]
  },
  {
   "cell_type": "markdown",
   "metadata": {},
   "source": [
    "### Do you know any of those movies? I dont either..."
   ]
  },
  {
   "cell_type": "code",
   "execution_count": 10,
   "metadata": {
    "collapsed": false
   },
   "outputs": [
    {
     "data": {
      "text/html": [
       "<div>\n",
       "<table border=\"1\" class=\"dataframe\">\n",
       "  <thead>\n",
       "    <tr style=\"text-align: right;\">\n",
       "      <th></th>\n",
       "      <th>title</th>\n",
       "      <th>genres</th>\n",
       "      <th>rating</th>\n",
       "    </tr>\n",
       "    <tr>\n",
       "      <th>movieId</th>\n",
       "      <th></th>\n",
       "      <th></th>\n",
       "      <th></th>\n",
       "    </tr>\n",
       "  </thead>\n",
       "  <tbody>\n",
       "    <tr>\n",
       "      <th>318</th>\n",
       "      <td>Shawshank Redemption, The (1994)</td>\n",
       "      <td>Crime|Drama</td>\n",
       "      <td>4.454545</td>\n",
       "    </tr>\n",
       "    <tr>\n",
       "      <th>296</th>\n",
       "      <td>Pulp Fiction (1994)</td>\n",
       "      <td>Comedy|Crime|Drama|Thriller</td>\n",
       "      <td>4.160000</td>\n",
       "    </tr>\n",
       "    <tr>\n",
       "      <th>356</th>\n",
       "      <td>Forrest Gump (1994)</td>\n",
       "      <td>Comedy|Drama|Romance|War</td>\n",
       "      <td>4.138264</td>\n",
       "    </tr>\n",
       "    <tr>\n",
       "      <th>593</th>\n",
       "      <td>Silence of the Lambs, The (1991)</td>\n",
       "      <td>Crime|Horror|Thriller</td>\n",
       "      <td>4.194828</td>\n",
       "    </tr>\n",
       "    <tr>\n",
       "      <th>260</th>\n",
       "      <td>Star Wars: Episode IV - A New Hope (1977)</td>\n",
       "      <td>Action|Adventure|Sci-Fi</td>\n",
       "      <td>4.188645</td>\n",
       "    </tr>\n",
       "    <tr>\n",
       "      <th>2571</th>\n",
       "      <td>Matrix, The (1999)</td>\n",
       "      <td>Action|Sci-Fi|Thriller</td>\n",
       "      <td>4.264368</td>\n",
       "    </tr>\n",
       "    <tr>\n",
       "      <th>527</th>\n",
       "      <td>Schindler's List (1993)</td>\n",
       "      <td>Drama|War</td>\n",
       "      <td>4.296371</td>\n",
       "    </tr>\n",
       "    <tr>\n",
       "      <th>50</th>\n",
       "      <td>Usual Suspects, The (1995)</td>\n",
       "      <td>Crime|Mystery|Thriller</td>\n",
       "      <td>4.328947</td>\n",
       "    </tr>\n",
       "    <tr>\n",
       "      <th>110</th>\n",
       "      <td>Braveheart (1995)</td>\n",
       "      <td>Action|Drama|War</td>\n",
       "      <td>4.108871</td>\n",
       "    </tr>\n",
       "    <tr>\n",
       "      <th>1196</th>\n",
       "      <td>Star Wars: Episode V - The Empire Strikes Back...</td>\n",
       "      <td>Action|Adventure|Sci-Fi</td>\n",
       "      <td>4.228070</td>\n",
       "    </tr>\n",
       "  </tbody>\n",
       "</table>\n",
       "</div>"
      ],
      "text/plain": [
       "                                                     title  \\\n",
       "movieId                                                      \n",
       "318                       Shawshank Redemption, The (1994)   \n",
       "296                                    Pulp Fiction (1994)   \n",
       "356                                    Forrest Gump (1994)   \n",
       "593                       Silence of the Lambs, The (1991)   \n",
       "260              Star Wars: Episode IV - A New Hope (1977)   \n",
       "2571                                    Matrix, The (1999)   \n",
       "527                                Schindler's List (1993)   \n",
       "50                              Usual Suspects, The (1995)   \n",
       "110                                      Braveheart (1995)   \n",
       "1196     Star Wars: Episode V - The Empire Strikes Back...   \n",
       "\n",
       "                              genres    rating  \n",
       "movieId                                         \n",
       "318                      Crime|Drama  4.454545  \n",
       "296      Comedy|Crime|Drama|Thriller  4.160000  \n",
       "356         Comedy|Drama|Romance|War  4.138264  \n",
       "593            Crime|Horror|Thriller  4.194828  \n",
       "260          Action|Adventure|Sci-Fi  4.188645  \n",
       "2571          Action|Sci-Fi|Thriller  4.264368  \n",
       "527                        Drama|War  4.296371  \n",
       "50            Crime|Mystery|Thriller  4.328947  \n",
       "110                 Action|Drama|War  4.108871  \n",
       "1196         Action|Adventure|Sci-Fi  4.228070  "
      ]
     },
     "execution_count": 10,
     "metadata": {},
     "output_type": "execute_result"
    }
   ],
   "source": [
    "# Robust Top Movies - Lets weight the average rating by the square root of number of ratings\n",
    "top_movies = data.groupby('movieId').apply(lambda x:len(x)**0.5 * x.mean()).sort_values('rating', ascending=False).head(10)\n",
    "pd.concat([movies.loc[top_movies.index.values], \n",
    "           average_movie_rating.loc[top_movies.index.values].rating], axis=1)"
   ]
  },
  {
   "cell_type": "code",
   "execution_count": 11,
   "metadata": {
    "collapsed": false
   },
   "outputs": [
    {
     "data": {
      "text/html": [
       "<div>\n",
       "<table border=\"1\" class=\"dataframe\">\n",
       "  <thead>\n",
       "    <tr style=\"text-align: right;\">\n",
       "      <th></th>\n",
       "      <th>title</th>\n",
       "      <th>genres</th>\n",
       "      <th>rating</th>\n",
       "    </tr>\n",
       "    <tr>\n",
       "      <th>movieId</th>\n",
       "      <th></th>\n",
       "      <th></th>\n",
       "      <th></th>\n",
       "    </tr>\n",
       "  </thead>\n",
       "  <tbody>\n",
       "    <tr>\n",
       "      <th>344</th>\n",
       "      <td>Ace Ventura: Pet Detective (1994)</td>\n",
       "      <td>Comedy</td>\n",
       "      <td>2.849711</td>\n",
       "    </tr>\n",
       "    <tr>\n",
       "      <th>231</th>\n",
       "      <td>Dumb &amp; Dumber (Dumb and Dumber) (1994)</td>\n",
       "      <td>Adventure|Comedy</td>\n",
       "      <td>3.003356</td>\n",
       "    </tr>\n",
       "    <tr>\n",
       "      <th>1721</th>\n",
       "      <td>Titanic (1997)</td>\n",
       "      <td>Drama|Romance</td>\n",
       "      <td>3.356209</td>\n",
       "    </tr>\n",
       "    <tr>\n",
       "      <th>1206</th>\n",
       "      <td>Clockwork Orange, A (1971)</td>\n",
       "      <td>Crime|Drama|Sci-Fi|Thriller</td>\n",
       "      <td>3.865672</td>\n",
       "    </tr>\n",
       "    <tr>\n",
       "      <th>296</th>\n",
       "      <td>Pulp Fiction (1994)</td>\n",
       "      <td>Comedy|Crime|Drama|Thriller</td>\n",
       "      <td>4.160000</td>\n",
       "    </tr>\n",
       "    <tr>\n",
       "      <th>480</th>\n",
       "      <td>Jurassic Park (1993)</td>\n",
       "      <td>Action|Adventure|Sci-Fi|Thriller</td>\n",
       "      <td>3.659864</td>\n",
       "    </tr>\n",
       "    <tr>\n",
       "      <th>356</th>\n",
       "      <td>Forrest Gump (1994)</td>\n",
       "      <td>Comedy|Drama|Romance|War</td>\n",
       "      <td>4.138264</td>\n",
       "    </tr>\n",
       "    <tr>\n",
       "      <th>94439</th>\n",
       "      <td>Jumping the Broom (2011)</td>\n",
       "      <td>Comedy</td>\n",
       "      <td>2.750000</td>\n",
       "    </tr>\n",
       "    <tr>\n",
       "      <th>60291</th>\n",
       "      <td>Gonzo: The Life and Work of Dr. Hunter S. Thom...</td>\n",
       "      <td>Documentary</td>\n",
       "      <td>2.750000</td>\n",
       "    </tr>\n",
       "    <tr>\n",
       "      <th>1676</th>\n",
       "      <td>Starship Troopers (1997)</td>\n",
       "      <td>Action|Sci-Fi</td>\n",
       "      <td>3.065217</td>\n",
       "    </tr>\n",
       "  </tbody>\n",
       "</table>\n",
       "</div>"
      ],
      "text/plain": [
       "                                                     title  \\\n",
       "movieId                                                      \n",
       "344                      Ace Ventura: Pet Detective (1994)   \n",
       "231                 Dumb & Dumber (Dumb and Dumber) (1994)   \n",
       "1721                                        Titanic (1997)   \n",
       "1206                            Clockwork Orange, A (1971)   \n",
       "296                                    Pulp Fiction (1994)   \n",
       "480                                   Jurassic Park (1993)   \n",
       "356                                    Forrest Gump (1994)   \n",
       "94439                             Jumping the Broom (2011)   \n",
       "60291    Gonzo: The Life and Work of Dr. Hunter S. Thom...   \n",
       "1676                              Starship Troopers (1997)   \n",
       "\n",
       "                                   genres    rating  \n",
       "movieId                                              \n",
       "344                                Comedy  2.849711  \n",
       "231                      Adventure|Comedy  3.003356  \n",
       "1721                        Drama|Romance  3.356209  \n",
       "1206          Crime|Drama|Sci-Fi|Thriller  3.865672  \n",
       "296           Comedy|Crime|Drama|Thriller  4.160000  \n",
       "480      Action|Adventure|Sci-Fi|Thriller  3.659864  \n",
       "356              Comedy|Drama|Romance|War  4.138264  \n",
       "94439                              Comedy  2.750000  \n",
       "60291                         Documentary  2.750000  \n",
       "1676                        Action|Sci-Fi  3.065217  "
      ]
     },
     "execution_count": 11,
     "metadata": {},
     "output_type": "execute_result"
    }
   ],
   "source": [
    "controversial_movies = data.groupby('movieId').apply(lambda x:len(x)**0.25 * x.std()).sort_values('rating', ascending=False).head(10)\n",
    "pd.concat([movies.loc[controversial_movies.index.values], \n",
    "           average_movie_rating.loc[controversial_movies.index.values].rating], axis=1)"
   ]
  },
  {
   "cell_type": "markdown",
   "metadata": {},
   "source": [
    "### We would like to produce estimates $\\tilde{r}$ for all the missing ratings"
   ]
  },
  {
   "cell_type": "markdown",
   "metadata": {},
   "source": [
    "<img src=\"notebook_images/rating_matrix2.png\" height=\"500\" width=\"500\">"
   ]
  },
  {
   "cell_type": "markdown",
   "metadata": {},
   "source": [
    "### Collaborative filtering is trying to complete the user-item rating matrix by sharing information across rows (users) and columns (items)\n",
    "### Some ideas :\n",
    "\n",
    "________________________________________________________________________________________________________________________________\n",
    "\n",
    "\n",
    "### <center><i>Prediction is the average rating a given item.</i></center>\n",
    "\n",
    "### Actually a good solution in terms of simplicity vs. efficiency, but everyone gets the same predictions. What about movies with few ratings? Also not very personalized...\n",
    "\n",
    "________________________________________________________________________________________________________________________________\n",
    "\n",
    "\n",
    "### <center><i>Use the attributes of each item and build a model for each user using these attributes. This is known as content filtering.</i></center>\n",
    "\n",
    "### Can work well, but sometimes the attributes are not very good (how can we know the difference between a good action movie and a bad one?). Also need thousands and thousands of classifiers, and information is not shared across users...\n",
    "### Lets suppose we dont even have attributes.\n",
    "\n",
    "________________________________________________________________________________________________________________________________\n",
    "\n",
    "\n",
    "### <center><i>Look at the most similar users or items to predict, using existing ratings of these similar users and items</i></center>\n",
    "\n",
    "### Known as k-Nearest-Neighbours, a standard machine learning algorithm. This can work well, but requires some engineering to perform well and to scale well (as we need to query or precompute alot of information).\n",
    "\n",
    "\n",
    "________________________________________________________________________________________________________________________________\n",
    "\n",
    "\n",
    "### <center><i>Discover hidden attributes of the items and each user's preference for these attributes.</i></center>\n",
    "\n",
    "### This is known as learning \"embeddings\" for users and items.\n",
    "\n",
    "### Imagine that each item has a set of hidden attributes, and users have preferences for each of these attributes. The estimated rating could be the linear combination of the attributes and preferences (dot product)."
   ]
  },
  {
   "cell_type": "markdown",
   "metadata": {},
   "source": [
    "<img src=\"notebook_images/rating_matrix3.png\" height=\"500\" width=\"500\">"
   ]
  },
  {
   "cell_type": "markdown",
   "metadata": {},
   "source": [
    "### This is like decomposing the matrix..."
   ]
  },
  {
   "cell_type": "markdown",
   "metadata": {},
   "source": [
    "<img src=\"notebook_images/factorization.svg\" height=\"700\" width=\"700\">"
   ]
  },
  {
   "cell_type": "markdown",
   "metadata": {},
   "source": [
    "### How will we find the \"hidden\" attributes (embeddings) if they are... hidden ?\n",
    "\n",
    "### We will formulate a mathematical model and apply numerical optimization to find the embeddings of items and users.\n",
    "\n",
    "## <center> <font color=\"red\">Warning!</font> Math ahead...</center>"
   ]
  },
  {
   "cell_type": "markdown",
   "metadata": {},
   "source": [
    "### We want our model (function f) to minimize a given error measure between predictions and actual values.\n",
    "\n",
    "## $$ \\tilde{r} = f(u, i) $$\n",
    "\n",
    "### Most basic error measure is the mean squared error :\n",
    "\n",
    "## $$ \\mathscr{E} = \\frac{1}{N} \\sum_{k=1...N} (\\tilde{r}_k - r_k)^2  $$\n",
    "\n",
    "### Our embeddings for users and items are written as:\n",
    "\n",
    "### embedding for user u : \n",
    "## $$ p_u $$\n",
    "### embedding for item i : \n",
    "## $$ q_i $$\n",
    "\n",
    "### And our complicated model will be...\n",
    "\n",
    ".\n",
    "\n",
    "<font size=6> $$ f(u,i)= q_i^{T} p_u  $$</font>\n",
    "\n",
    ".\n",
    "\n",
    "### Perhaps we can do a little bit better with an even simpler modelling trick: some items are just bad, and some people are always positive. \n",
    "### We can model this by simply having a bias term for users and items, along with a main bias term for all ratings.\n",
    "### This allows embeddings to encode the actual attributes of items and users instead of their bias.\n",
    "\n",
    "### We will have a main bias:\n",
    "\n",
    "## $$ b $$\n",
    "\n",
    "### User bias for user u:\n",
    "\n",
    "## $$ b_u $$\n",
    "\n",
    "### And item bias for item i:\n",
    "\n",
    "## $$ b_i $$\n",
    "\n",
    "\n",
    "### Our final model will simply be the sum of all these terms.\n",
    ".\n",
    "<font size=6>$$ f(u,i) = b + b_u + b_i + q_i^{T} p_u $$</font>\n"
   ]
  },
  {
   "cell_type": "markdown",
   "metadata": {},
   "source": [
    "### <center><font color=\"red\">Still More Math...</font></center>"
   ]
  },
  {
   "cell_type": "markdown",
   "metadata": {},
   "source": [
    "### We are not quite done yet...\n",
    "\n",
    "### How do we find biases and embeddings for thousands of users and items?\n",
    "\n",
    "### There are many numerical optimization algorithms. Lets use one that simple and efficient, gradient descent.\n",
    "\n",
    "### Given our dataset, we can iteratively move the parameters in the appropriate direction to improve the mean squared error, until we are tired of waiting, or until performance does not improve anymore.\n",
    "\n",
    "### This simply means moving in the direction of the gradient of the error with regards to the model parameters (usually called $ \\theta $),  denoted by:\n",
    "## $$ \\frac{\\delta \\mathscr{E}}{\\delta \\theta} $$\n",
    "### where\n",
    "## $$ \\theta = \\{b, b_u, b_i, q_i, p_u\\} $$\n",
    "### for all users $u$ and items $i$.\n",
    "\n",
    "### The \"gradient descent\" iteration is:\n",
    "## $$ \\theta \\leftarrow \\theta + \\alpha \\frac{\\delta \\mathscr{E}}{\\delta \\theta} $$\n",
    "### Where $\\alpha$ controls how big the gradient steps are. We call this the learning rate.\n",
    "\n",
    "#### We could do this on the whole dataset at every iteration, adding the gradients together before updating. This is the standard gradient algorithm (compute the gradient on the whole training set and then update the parameters).\n",
    "#### However we can speed this up alot by using one random training every iteration. Without going into too much detail, the gradient of a random training is, on average, the same as the gradient on the whole training set. This means we can go, in theory, thousands of times faster!"
   ]
  },
  {
   "cell_type": "markdown",
   "metadata": {},
   "source": [
    "### <center><font color=\"red\">Condensed information</font>:\n",
    "- ### Loop over examples.\n",
    "- ### Update model parameters to decrease the error.\n",
    "- ### Continue until we cant improve anymore or we get bored.\n",
    "</center>"
   ]
  },
  {
   "cell_type": "markdown",
   "metadata": {},
   "source": [
    "### Gradient descent in one image:\n",
    "<img src=\"notebook_images/sgd_optimal.png\" height=\"600\" width=\"600\">"
   ]
  },
  {
   "cell_type": "markdown",
   "metadata": {},
   "source": [
    "\n",
    "\n",
    "\n",
    "\n",
    "\n",
    "\n",
    "\n"
   ]
  },
  {
   "cell_type": "markdown",
   "metadata": {},
   "source": [
    "# <center><font color=\"blue\">The Model</font></center>"
   ]
  },
  {
   "cell_type": "markdown",
   "metadata": {},
   "source": [
    "## Now we are ready to train the model!"
   ]
  },
  {
   "cell_type": "markdown",
   "metadata": {},
   "source": [
    "### Split the data into training and testing sets."
   ]
  },
  {
   "cell_type": "code",
   "execution_count": 65,
   "metadata": {
    "collapsed": true
   },
   "outputs": [],
   "source": [
    "ratings = data[['userId', 'movieId', 'rating']].values\n",
    "\n",
    "# Shuffle training examples so that movies and users are evenly distributed\n",
    "np.random.shuffle(ratings)\n",
    "\n",
    "n_users, n_items, _ = ratings.max(axis=0) + 1\n",
    "n = len(ratings)\n",
    "\n",
    "split_ratios = [0, 0.7, 0.85, 1]\n",
    "train_ratings, valid_ratings, test_ratings = [ratings[int(n*lo):int(n*up)] for (lo, up) in zip(split_ratios[:-1], split_ratios[1:])]"
   ]
  },
  {
   "cell_type": "markdown",
   "metadata": {},
   "source": [
    "### Code for the model object.\n",
    "### Implements code for\n",
    "- #### Initializing embeddings and biases\n",
    "- #### Saving and loading parameters\n",
    "- #### Predicting given user-item pairs\n",
    "- #### Update the parameters to decrease the error"
   ]
  },
  {
   "cell_type": "code",
   "execution_count": 66,
   "metadata": {
    "collapsed": false
   },
   "outputs": [],
   "source": [
    "gradients = [\"dL_db\", \"dL_dbu\", \"dL_dbv\", \"dL_dU\", \"dL_dV\"]\n",
    "\n",
    "class Model(object):\n",
    "    def __init__(self, latent_factors_size, L2_bias=0, L2_emb=0):\n",
    "        self.model_parameters = []\n",
    "        self.gradients = []\n",
    "        for (name, value) in self.initialize_parameters(latent_factors_size):\n",
    "            setattr(self, name, value)\n",
    "            self.gradients.append(\"dL_d%s\" % name)\n",
    "            self.model_parameters.append(name)\n",
    "    \n",
    "    # Used to save parameters during the optimization\n",
    "    def save_parameters(self):\n",
    "        return [(name, np.copy(getattr(self, name))) for name in self.model_parameters]\n",
    "    \n",
    "    # Used to reload the best parameters once the optimization is finished\n",
    "    def load_parameters(self, parameters):\n",
    "        for (name, value) in parameters:\n",
    "            setattr(self, name, value)\n",
    "    \n",
    "    # Random embedding generation from normal distribution, given a size and variance\n",
    "    def initialize_parameters(self, latent_factors_size=100, std=0.05):\n",
    "        U = np.random.normal(0., std, size=(n_users + 1, latent_factors_size))\n",
    "        V = np.random.normal(0., std, size=(n_items + 1, latent_factors_size))\n",
    "        u = np.zeros(n_users + 1)\n",
    "        v = np.zeros(n_items + 1)\n",
    "        return zip((\"b\", \"u\", \"v\", \"U\", \"V\"), (0, u, v, U, V))\n",
    "            \n",
    "    # Compute the gradients of the biases and embeddings, given the user-item\n",
    "    def compute_gradient(self, user_ids, item_ids, ratings):\n",
    "        predicted_ratings = self.predict(user_ids, item_ids)\n",
    "        residual = ratings - predicted_ratings\n",
    "\n",
    "        # biases\n",
    "        dL_db = -2 * residual\n",
    "        dL_dbu = -2 * residual\n",
    "        dL_dbv = -2 * residual\n",
    "\n",
    "        # embeddings\n",
    "        eu = self.U[user_ids]\n",
    "        ev = self.V[item_ids]\n",
    "\n",
    "        dL_dU = -2 * residual * ev\n",
    "        dL_dV = -2 * residual * eu\n",
    "\n",
    "        # Regularization\n",
    "        l2 = 0.1\n",
    "        dl2eu_dU = l2 * 2*eu\n",
    "        dl2ev_dV = l2 * 2*ev\n",
    "        dl2bu_dbu = l2 * 2*self.u[user_ids]\n",
    "        dl2bv_dbv = l2 * 2*self.v[item_ids]\n",
    "        \n",
    "        dL_dbu = dL_dbu + dl2bu_dbu\n",
    "        dL_dbv = dL_dbv + dl2bv_dbv\n",
    "        dL_dU = dL_dU + dl2eu_dU\n",
    "        dL_dV = dL_dV + dl2ev_dV\n",
    "        \n",
    "        return dict([(g, eval(g)) for g in gradients])\n",
    "    \n",
    "    # Sum of the biases and dot product of the embeddings\n",
    "    def predict(self, user_ids, item_ids):\n",
    "        user_ids = user_ids.astype('int')\n",
    "        item_ids = item_ids.astype('int')\n",
    "        return sum([self.b, \n",
    "                    self.u[user_ids], \n",
    "                    self.v[item_ids], \n",
    "                    (self.U[user_ids] * self.V[item_ids]).sum(axis=-1)])\n",
    "    \n",
    "    # Perform a gradient descent step\n",
    "    def update_parameters(self, user, item, rating, learning_rate = 0.005):\n",
    "        gradients = self.compute_gradient(user, item, rating)\n",
    "        self.b = self.b - learning_rate * gradients['dL_db']\n",
    "        self.u[user] = self.u[user] - learning_rate * gradients['dL_dbu']\n",
    "        self.v[item] = self.v[item] - learning_rate * gradients['dL_dbv']\n",
    "        self.U[user] = self.U[user] - learning_rate * gradients['dL_dU']\n",
    "        self.V[item] = self.V[item] - learning_rate * gradients['dL_dV']"
   ]
  },
  {
   "cell_type": "markdown",
   "metadata": {},
   "source": [
    "#### Some useful utilitary functions"
   ]
  },
  {
   "cell_type": "code",
   "execution_count": 50,
   "metadata": {
    "collapsed": true
   },
   "outputs": [],
   "source": [
    "# Generate a random number \n",
    "def sample_random_training_index():\n",
    "    return np.random.randint(0, len(train_ratings))\n",
    "\n",
    "# Compute root mean squared error between x and y\n",
    "def compute_rmse(x, y):\n",
    "    return ((x - y)**2).mean()**0.5\n",
    "\n",
    "# utilitary functions for getting the train/valid/test\n",
    "def get_rmse(ratings):\n",
    "    return compute_rmse(model.predict(*ratings.T[:2]), ratings.T[2])\n",
    "\n",
    "def get_trainset_rmse():\n",
    "    return get_rmse(train_ratings)\n",
    "\n",
    "def get_validset_rmse():\n",
    "    return get_rmse(valid_ratings)\n",
    "\n",
    "def get_testset_rmse():\n",
    "    return get_rmse(test_ratings)"
   ]
  },
  {
   "cell_type": "markdown",
   "metadata": {},
   "source": [
    "#### Initialization of the model and optimization"
   ]
  },
  {
   "cell_type": "code",
   "execution_count": 70,
   "metadata": {
    "collapsed": false
   },
   "outputs": [],
   "source": [
    "model = Model(latent_factors_size=100)\n",
    "model.b = train_ratings[:,2].mean()\n",
    "\n",
    "sgd_iteration_count = 0\n",
    "best_validation_rmse = 9999\n",
    "patience = 0\n",
    "update_frequency = 10000\n",
    "\n",
    "train_errors = []\n",
    "valid_errors = []\n",
    "test_errors = []\n",
    "\n",
    "best_parameters = None\n",
    "\n",
    "# model size = 100\n",
    "# learning rate = 0.005\n",
    "# l2 = 0.1\n",
    "# Should take 6 minutes"
   ]
  },
  {
   "cell_type": "markdown",
   "metadata": {},
   "source": [
    "#### The gradient descent optimization\n",
    "#### Additional notes concerning optimization:\n",
    "<ul>\n",
    "  <li>We will measure performance on the validation set. Optimization will stop when we no longer improve on the validation, after a certain number of iterations (patience).</li>\n",
    "  <li>We will save the error on the training, validation and test set every 10000 iterations.</li>\n",
    "  <li>Whenever we see the best validation error up to now, we will save the model parameters.</li>\n",
    "</ul>"
   ]
  },
  {
   "cell_type": "code",
   "execution_count": 71,
   "metadata": {
    "collapsed": false,
    "scrolled": true
   },
   "outputs": [
    {
     "name": "stdout",
     "output_type": "stream",
     "text": [
      "Iteration:       0\n",
      "Validation RMSE: 1.04045889333\n",
      "Test RMSE      : 1.04163823985\n",
      "Best validation error up to now !\n",
      "\n",
      "Iteration:       10000\n",
      "Validation RMSE: 0.976009987311\n",
      "Test RMSE      : 0.978271161412\n",
      "Best validation error up to now !\n",
      "\n",
      "Iteration:       20000\n",
      "Validation RMSE: 0.956403257583\n",
      "Test RMSE      : 0.961444014114\n",
      "Best validation error up to now !\n",
      "\n",
      "Iteration:       30000\n",
      "Validation RMSE: 0.938094504089\n",
      "Test RMSE      : 0.942329823063\n",
      "Best validation error up to now !\n",
      "\n",
      "Iteration:       40000\n",
      "Validation RMSE: 0.929956622225\n",
      "Test RMSE      : 0.934624133602\n",
      "Best validation error up to now !\n",
      "\n",
      "Iteration:       50000\n",
      "Validation RMSE: 0.934884434115\n",
      "\n",
      "Iteration:       60000\n",
      "Validation RMSE: 0.918347339996\n",
      "Test RMSE      : 0.92096055399\n",
      "Best validation error up to now !\n",
      "\n",
      "Iteration:       70000\n",
      "Validation RMSE: 0.91316562048\n",
      "Test RMSE      : 0.916771913172\n",
      "Best validation error up to now !\n",
      "\n",
      "Iteration:       80000\n",
      "Validation RMSE: 0.912042901875\n",
      "Test RMSE      : 0.914572236698\n",
      "Best validation error up to now !\n",
      "\n",
      "Iteration:       90000\n",
      "Validation RMSE: 0.908953061046\n",
      "Test RMSE      : 0.913051713323\n",
      "Best validation error up to now !\n",
      "\n",
      "Iteration:       100000\n",
      "Validation RMSE: 0.916596448651\n",
      "\n",
      "Iteration:       110000\n",
      "Validation RMSE: 0.902845085261\n",
      "Test RMSE      : 0.905730228401\n",
      "Best validation error up to now !\n",
      "\n",
      "Iteration:       120000\n",
      "Validation RMSE: 0.900663178312\n",
      "Test RMSE      : 0.90321446797\n",
      "Best validation error up to now !\n",
      "\n",
      "Iteration:       130000\n",
      "Validation RMSE: 0.898301609367\n",
      "Test RMSE      : 0.901836652414\n",
      "Best validation error up to now !\n",
      "\n",
      "Iteration:       140000\n",
      "Validation RMSE: 0.89599410103\n",
      "Test RMSE      : 0.899508750898\n",
      "Best validation error up to now !\n",
      "\n",
      "Iteration:       150000\n",
      "Validation RMSE: 0.899497908924\n",
      "\n",
      "Iteration:       160000\n",
      "Validation RMSE: 0.89352902352\n",
      "Test RMSE      : 0.897530933919\n",
      "Best validation error up to now !\n",
      "\n",
      "Iteration:       170000\n",
      "Validation RMSE: 0.890827662777\n",
      "Test RMSE      : 0.894291052361\n",
      "Best validation error up to now !\n",
      "\n",
      "Iteration:       180000\n",
      "Validation RMSE: 0.890071199202\n",
      "Test RMSE      : 0.894007164523\n",
      "Best validation error up to now !\n",
      "\n",
      "Iteration:       190000\n",
      "Validation RMSE: 0.889292266498\n",
      "Test RMSE      : 0.892383076219\n",
      "Best validation error up to now !\n",
      "\n",
      "Iteration:       200000\n",
      "Validation RMSE: 0.890683738426\n",
      "\n",
      "Iteration:       210000\n",
      "Validation RMSE: 0.892332081146\n",
      "\n",
      "Iteration:       220000\n",
      "Validation RMSE: 0.903458835388\n",
      "\n",
      "Iteration:       230000\n",
      "Validation RMSE: 0.885462824689\n",
      "Test RMSE      : 0.888328761367\n",
      "Best validation error up to now !\n",
      "\n",
      "Iteration:       240000\n",
      "Validation RMSE: 0.885161159281\n",
      "Test RMSE      : 0.887740139392\n",
      "Best validation error up to now !\n",
      "\n",
      "Iteration:       250000\n",
      "Validation RMSE: 0.88942485047\n",
      "\n",
      "Iteration:       260000\n",
      "Validation RMSE: 0.885362762553\n",
      "\n",
      "Iteration:       270000\n",
      "Validation RMSE: 0.886504880631\n",
      "\n",
      "Iteration:       280000\n",
      "Validation RMSE: 0.882429516955\n",
      "Test RMSE      : 0.886011904479\n",
      "Best validation error up to now !\n",
      "\n",
      "Iteration:       290000\n",
      "Validation RMSE: 0.88442187482\n",
      "\n",
      "Iteration:       300000\n",
      "Validation RMSE: 0.882338263156\n",
      "Test RMSE      : 0.885380266545\n",
      "Best validation error up to now !\n",
      "\n",
      "Iteration:       310000\n",
      "Validation RMSE: 0.882632096839\n",
      "\n",
      "Iteration:       320000\n",
      "Validation RMSE: 0.885857095381\n",
      "\n",
      "Iteration:       330000\n",
      "Validation RMSE: 0.883604282603\n",
      "\n",
      "Iteration:       340000\n",
      "Validation RMSE: 0.883236330898\n",
      "\n",
      "Iteration:       350000\n",
      "Validation RMSE: 0.878354295055\n",
      "Test RMSE      : 0.882468385136\n",
      "Best validation error up to now !\n",
      "\n",
      "Iteration:       360000\n",
      "Validation RMSE: 0.878646773157\n",
      "\n",
      "Iteration:       370000\n",
      "Validation RMSE: 0.87729302528\n",
      "Test RMSE      : 0.881749865955\n",
      "Best validation error up to now !\n",
      "\n",
      "Iteration:       380000\n",
      "Validation RMSE: 0.876372028052\n",
      "Test RMSE      : 0.880786731942\n",
      "Best validation error up to now !\n",
      "\n",
      "Iteration:       390000\n",
      "Validation RMSE: 0.876405790422\n",
      "\n",
      "Iteration:       400000\n",
      "Validation RMSE: 0.877246740689\n",
      "\n",
      "Iteration:       410000\n",
      "Validation RMSE: 0.878126677238\n",
      "\n",
      "Iteration:       420000\n",
      "Validation RMSE: 0.875454557572\n",
      "Test RMSE      : 0.878803002922\n",
      "Best validation error up to now !\n",
      "\n",
      "Iteration:       430000\n",
      "Validation RMSE: 0.87832847926\n",
      "\n",
      "Iteration:       440000\n",
      "Validation RMSE: 0.875524923944\n",
      "\n",
      "Iteration:       450000\n",
      "Validation RMSE: 0.873102234608\n",
      "Test RMSE      : 0.877010583121\n",
      "Best validation error up to now !\n",
      "\n",
      "Iteration:       460000\n",
      "Validation RMSE: 0.874152804493\n",
      "\n",
      "Iteration:       470000\n",
      "Validation RMSE: 0.874019327148\n",
      "\n",
      "Iteration:       480000\n",
      "Validation RMSE: 0.88285797163\n",
      "\n",
      "Iteration:       490000\n",
      "Validation RMSE: 0.877182211192\n",
      "\n",
      "Iteration:       500000\n",
      "Validation RMSE: 0.873998819629\n",
      "\n",
      "Iteration:       510000\n",
      "Validation RMSE: 0.874782044603\n",
      "\n",
      "Iteration:       520000\n",
      "Validation RMSE: 0.873171557219\n",
      "\n",
      "Iteration:       530000\n",
      "Validation RMSE: 0.87590252033\n",
      "\n",
      "Iteration:       540000\n",
      "Validation RMSE: 0.87241136899\n",
      "Test RMSE      : 0.874632706336\n",
      "Best validation error up to now !\n",
      "\n",
      "Iteration:       550000\n",
      "Validation RMSE: 0.874461340508\n",
      "\n",
      "Iteration:       560000\n",
      "Validation RMSE: 0.874606796306\n",
      "\n",
      "Iteration:       570000\n",
      "Validation RMSE: 0.873117551798\n",
      "\n",
      "Iteration:       580000\n",
      "Validation RMSE: 0.872768172499\n",
      "\n",
      "Iteration:       590000\n",
      "Validation RMSE: 0.871623900379\n",
      "Test RMSE      : 0.874157469866\n",
      "Best validation error up to now !\n",
      "\n",
      "Iteration:       600000\n",
      "Validation RMSE: 0.877775505294\n",
      "\n",
      "Iteration:       610000\n",
      "Validation RMSE: 0.869688591282\n",
      "Test RMSE      : 0.873170827351\n",
      "Best validation error up to now !\n",
      "\n",
      "Iteration:       620000\n",
      "Validation RMSE: 0.878547043406\n",
      "\n",
      "Iteration:       630000\n",
      "Validation RMSE: 0.871952592959\n",
      "\n",
      "Iteration:       640000\n",
      "Validation RMSE: 0.874900492873\n",
      "\n",
      "Iteration:       650000\n",
      "Validation RMSE: 0.870036805951\n",
      "\n",
      "Iteration:       660000\n",
      "Validation RMSE: 0.870307954448\n",
      "\n",
      "Iteration:       670000\n",
      "Validation RMSE: 0.870997737514\n",
      "\n",
      "Iteration:       680000\n",
      "Validation RMSE: 0.871723053812\n",
      "\n",
      "Iteration:       690000\n",
      "Validation RMSE: 0.869744570191\n",
      "\n",
      "Iteration:       700000\n",
      "Validation RMSE: 0.87942082507\n",
      "\n",
      "Iteration:       710000\n",
      "Validation RMSE: 0.87948354897\n",
      "\n",
      "Iteration:       720000\n",
      "Validation RMSE: 0.869672368559\n",
      "Test RMSE      : 0.871286918208\n",
      "Best validation error up to now !\n",
      "\n",
      "Iteration:       730000\n",
      "Validation RMSE: 0.873314044893\n",
      "\n",
      "Iteration:       740000\n",
      "Validation RMSE: 0.868942654103\n",
      "Test RMSE      : 0.871625343315\n",
      "Best validation error up to now !\n",
      "\n",
      "Iteration:       750000\n",
      "Validation RMSE: 0.868248920776\n",
      "Test RMSE      : 0.870511424026\n",
      "Best validation error up to now !\n",
      "\n",
      "Iteration:       760000\n",
      "Validation RMSE: 0.867903094358\n",
      "Test RMSE      : 0.870805074715\n",
      "Best validation error up to now !\n",
      "\n",
      "Iteration:       770000\n",
      "Validation RMSE: 0.871264183593\n",
      "\n",
      "Iteration:       780000\n",
      "Validation RMSE: 0.870227284908\n",
      "\n",
      "Iteration:       790000\n",
      "Validation RMSE: 0.871220759203\n",
      "\n",
      "Iteration:       800000\n",
      "Validation RMSE: 0.871496277254\n",
      "\n",
      "Iteration:       810000\n",
      "Validation RMSE: 0.868449527627\n",
      "\n",
      "Iteration:       820000\n",
      "Validation RMSE: 0.868150335003\n",
      "\n",
      "Iteration:       830000\n",
      "Validation RMSE: 0.867513166598\n",
      "Test RMSE      : 0.870257618011\n",
      "Best validation error up to now !\n",
      "\n",
      "Iteration:       840000\n",
      "Validation RMSE: 0.867382983266\n",
      "Test RMSE      : 0.86932671122\n",
      "Best validation error up to now !\n",
      "\n",
      "Iteration:       850000\n",
      "Validation RMSE: 0.866633324506\n",
      "Test RMSE      : 0.868923707198\n",
      "Best validation error up to now !\n",
      "\n",
      "Iteration:       860000\n",
      "Validation RMSE: 0.866124281816\n",
      "Test RMSE      : 0.868430736388\n",
      "Best validation error up to now !\n",
      "\n",
      "Iteration:       870000\n",
      "Validation RMSE: 0.866409371041\n",
      "\n",
      "Iteration:       880000\n",
      "Validation RMSE: 0.86762433503\n",
      "\n",
      "Iteration:       890000\n",
      "Validation RMSE: 0.870478063056\n",
      "\n",
      "Iteration:       900000\n",
      "Validation RMSE: 0.872771976651\n",
      "\n",
      "Iteration:       910000\n",
      "Validation RMSE: 0.86704587669\n",
      "\n",
      "Iteration:       920000\n",
      "Validation RMSE: 0.866857025372\n",
      "\n",
      "Iteration:       930000\n",
      "Validation RMSE: 0.882834045715\n",
      "\n",
      "Iteration:       940000\n",
      "Validation RMSE: 0.867931121019\n",
      "\n",
      "Iteration:       950000\n",
      "Validation RMSE: 0.865984537103\n",
      "Test RMSE      : 0.868422368388\n",
      "Best validation error up to now !\n",
      "\n",
      "Iteration:       960000\n",
      "Validation RMSE: 0.866354311349\n",
      "\n",
      "Iteration:       970000\n",
      "Validation RMSE: 0.869166049915\n",
      "\n",
      "Iteration:       980000\n",
      "Validation RMSE: 0.869783951066\n",
      "\n",
      "Iteration:       990000\n",
      "Validation RMSE: 0.868008473519\n",
      "\n",
      "Iteration:       1000000\n",
      "Validation RMSE: 0.865359464022\n",
      "Test RMSE      : 0.867011213912\n",
      "Best validation error up to now !\n",
      "\n",
      "Iteration:       1010000\n",
      "Validation RMSE: 0.868641104997\n",
      "\n",
      "Iteration:       1020000\n",
      "Validation RMSE: 0.865599099207\n",
      "\n",
      "Iteration:       1030000\n",
      "Validation RMSE: 0.867770633862\n",
      "\n",
      "Iteration:       1040000\n",
      "Validation RMSE: 0.86617362326\n",
      "\n",
      "Iteration:       1050000\n",
      "Validation RMSE: 0.869486739397\n",
      "\n",
      "Iteration:       1060000\n",
      "Validation RMSE: 0.866773078021\n",
      "\n",
      "Iteration:       1070000\n",
      "Validation RMSE: 0.86647396689\n",
      "\n",
      "Iteration:       1080000\n",
      "Validation RMSE: 0.874471510588\n",
      "\n",
      "Iteration:       1090000\n",
      "Validation RMSE: 0.871939198153\n",
      "\n",
      "Iteration:       1100000\n",
      "Validation RMSE: 0.865074299631\n",
      "Test RMSE      : 0.866536526548\n",
      "Best validation error up to now !\n",
      "\n",
      "Iteration:       1110000\n",
      "Validation RMSE: 0.865642383206\n",
      "\n",
      "Iteration:       1120000\n",
      "Validation RMSE: 0.868577772453\n",
      "\n",
      "Iteration:       1130000\n",
      "Validation RMSE: 0.869044152621\n",
      "\n",
      "Iteration:       1140000\n",
      "Validation RMSE: 0.864819806389\n",
      "Test RMSE      : 0.867092171033\n",
      "Best validation error up to now !\n",
      "\n",
      "Iteration:       1150000\n",
      "Validation RMSE: 0.865688252359\n",
      "\n",
      "Iteration:       1160000\n",
      "Validation RMSE: 0.865291446939\n",
      "\n",
      "Iteration:       1170000\n",
      "Validation RMSE: 0.863833646611\n",
      "Test RMSE      : 0.866820218173\n",
      "Best validation error up to now !\n",
      "\n",
      "Iteration:       1180000\n",
      "Validation RMSE: 0.866764475165\n",
      "\n",
      "Iteration:       1190000\n",
      "Validation RMSE: 0.864521432886\n",
      "\n",
      "Iteration:       1200000\n",
      "Validation RMSE: 0.863989506695\n",
      "\n",
      "Iteration:       1210000\n",
      "Validation RMSE: 0.865243255041\n",
      "\n",
      "Iteration:       1220000\n",
      "Validation RMSE: 0.865255495917\n",
      "\n",
      "Iteration:       1230000\n",
      "Validation RMSE: 0.867661348987\n",
      "\n",
      "Iteration:       1240000\n",
      "Validation RMSE: 0.86516723661\n",
      "\n",
      "Iteration:       1250000\n",
      "Validation RMSE: 0.875863260306\n",
      "\n",
      "Iteration:       1260000\n",
      "Validation RMSE: 0.863431435556\n",
      "Test RMSE      : 0.865748579403\n",
      "Best validation error up to now !\n",
      "\n",
      "Iteration:       1270000\n",
      "Validation RMSE: 0.86562628366\n",
      "\n",
      "Iteration:       1280000\n",
      "Validation RMSE: 0.863802591332\n",
      "\n",
      "Iteration:       1290000\n",
      "Validation RMSE: 0.870377960134\n",
      "\n",
      "Iteration:       1300000\n",
      "Validation RMSE: 0.863563110028\n",
      "\n",
      "Iteration:       1310000\n",
      "Validation RMSE: 0.863314387817\n",
      "Test RMSE      : 0.864979356815\n",
      "Best validation error up to now !\n",
      "\n",
      "Iteration:       1320000\n",
      "Validation RMSE: 0.867178500946\n",
      "\n",
      "Iteration:       1330000\n",
      "Validation RMSE: 0.863476483972\n",
      "\n",
      "Iteration:       1340000\n",
      "Validation RMSE: 0.86370599131\n",
      "\n",
      "Iteration:       1350000\n",
      "Validation RMSE: 0.862812778493\n",
      "Test RMSE      : 0.865065277942\n",
      "Best validation error up to now !\n",
      "\n",
      "Iteration:       1360000\n",
      "Validation RMSE: 0.863227817501\n",
      "\n",
      "Iteration:       1370000\n",
      "Validation RMSE: 0.86486099461\n",
      "\n",
      "Iteration:       1380000\n",
      "Validation RMSE: 0.863622392183\n",
      "\n",
      "Iteration:       1390000\n",
      "Validation RMSE: 0.865191384251\n",
      "\n",
      "Iteration:       1400000\n",
      "Validation RMSE: 0.864158156619\n",
      "\n",
      "Iteration:       1410000\n",
      "Validation RMSE: 0.865320134999\n",
      "\n",
      "Iteration:       1420000\n",
      "Validation RMSE: 0.863291881118\n",
      "\n",
      "Iteration:       1430000\n",
      "Validation RMSE: 0.863766212253\n",
      "\n",
      "Iteration:       1440000\n",
      "Validation RMSE: 0.863109288904\n",
      "\n",
      "Iteration:       1450000\n",
      "Validation RMSE: 0.862739313016\n",
      "Test RMSE      : 0.864248110949\n",
      "Best validation error up to now !\n",
      "\n",
      "Iteration:       1460000\n",
      "Validation RMSE: 0.864428299991\n",
      "\n",
      "Iteration:       1470000\n",
      "Validation RMSE: 0.86210032401\n",
      "Test RMSE      : 0.86388026033\n",
      "Best validation error up to now !\n",
      "\n",
      "Iteration:       1480000\n",
      "Validation RMSE: 0.861831643669\n",
      "Test RMSE      : 0.863711157354\n",
      "Best validation error up to now !\n",
      "\n",
      "Iteration:       1490000\n",
      "Validation RMSE: 0.869938411228\n",
      "\n",
      "Iteration:       1500000\n",
      "Validation RMSE: 0.864974707984\n",
      "\n",
      "Iteration:       1510000\n",
      "Validation RMSE: 0.865582586954\n",
      "\n",
      "Iteration:       1520000\n",
      "Validation RMSE: 0.86306657653\n",
      "\n",
      "Iteration:       1530000\n",
      "Validation RMSE: 0.863409839876\n",
      "\n",
      "Iteration:       1540000\n",
      "Validation RMSE: 0.863420695132\n",
      "\n",
      "Iteration:       1550000\n",
      "Validation RMSE: 0.862396136921\n",
      "\n",
      "Iteration:       1560000\n",
      "Validation RMSE: 0.862317247324\n",
      "\n",
      "Iteration:       1570000\n",
      "Validation RMSE: 0.863042449753\n",
      "\n",
      "Iteration:       1580000\n",
      "Validation RMSE: 0.864008656023\n",
      "\n",
      "Iteration:       1590000\n",
      "Validation RMSE: 0.862132089842\n",
      "\n",
      "Iteration:       1600000\n",
      "Validation RMSE: 0.862801088268\n",
      "\n",
      "Iteration:       1610000\n",
      "Validation RMSE: 0.861352968841\n",
      "Test RMSE      : 0.862183317423\n",
      "Best validation error up to now !\n",
      "\n",
      "Iteration:       1620000\n",
      "Validation RMSE: 0.871031519125\n",
      "\n",
      "Iteration:       1630000\n",
      "Validation RMSE: 0.861664240301\n",
      "\n",
      "Iteration:       1640000\n",
      "Validation RMSE: 0.862614715819\n",
      "\n",
      "Iteration:       1650000\n",
      "Validation RMSE: 0.862034891775\n",
      "\n",
      "Iteration:       1660000\n",
      "Validation RMSE: 0.86146306791\n",
      "\n",
      "Iteration:       1670000\n",
      "Validation RMSE: 0.860764635635\n",
      "Test RMSE      : 0.861315514491\n",
      "Best validation error up to now !\n",
      "\n",
      "Iteration:       1680000\n",
      "Validation RMSE: 0.86099763677\n",
      "\n",
      "Iteration:       1690000\n",
      "Validation RMSE: 0.864736455859\n",
      "\n",
      "Iteration:       1700000\n",
      "Validation RMSE: 0.860949185561\n",
      "\n",
      "Iteration:       1710000\n",
      "Validation RMSE: 0.860751039843\n",
      "Test RMSE      : 0.861396577974\n",
      "Best validation error up to now !\n",
      "\n",
      "Iteration:       1720000\n",
      "Validation RMSE: 0.862703518867\n",
      "\n",
      "Iteration:       1730000\n",
      "Validation RMSE: 0.859997647267\n",
      "Test RMSE      : 0.860416604759\n",
      "Best validation error up to now !\n",
      "\n",
      "Iteration:       1740000\n",
      "Validation RMSE: 0.860538029059\n",
      "\n",
      "Iteration:       1750000\n",
      "Validation RMSE: 0.860038070116\n",
      "\n",
      "Iteration:       1760000\n",
      "Validation RMSE: 0.85934608145\n",
      "Test RMSE      : 0.860674915045\n",
      "Best validation error up to now !\n",
      "\n",
      "Iteration:       1770000\n",
      "Validation RMSE: 0.859958364591\n",
      "\n",
      "Iteration:       1780000\n",
      "Validation RMSE: 0.861185157317\n",
      "\n",
      "Iteration:       1790000\n",
      "Validation RMSE: 0.86144655914\n",
      "\n",
      "Iteration:       1800000\n",
      "Validation RMSE: 0.862167389009\n",
      "\n",
      "Iteration:       1810000\n",
      "Validation RMSE: 0.86474599367\n",
      "\n",
      "Iteration:       1820000\n",
      "Validation RMSE: 0.863569288941\n",
      "\n",
      "Iteration:       1830000\n",
      "Validation RMSE: 0.860394247391\n",
      "\n",
      "Iteration:       1840000\n",
      "Validation RMSE: 0.863505293031\n",
      "\n",
      "Iteration:       1850000\n",
      "Validation RMSE: 0.860100385575\n",
      "\n",
      "Iteration:       1860000\n",
      "Validation RMSE: 0.858915184057\n",
      "Test RMSE      : 0.860344318974\n",
      "Best validation error up to now !\n",
      "\n",
      "Iteration:       1870000\n",
      "Validation RMSE: 0.858464662952\n",
      "Test RMSE      : 0.860140087782\n",
      "Best validation error up to now !\n",
      "\n",
      "Iteration:       1880000\n",
      "Validation RMSE: 0.858785862543\n",
      "\n",
      "Iteration:       1890000\n",
      "Validation RMSE: 0.858582830998\n",
      "\n",
      "Iteration:       1900000\n",
      "Validation RMSE: 0.859335798066\n",
      "\n",
      "Iteration:       1910000\n",
      "Validation RMSE: 0.859985983073\n",
      "\n",
      "Iteration:       1920000\n",
      "Validation RMSE: 0.859062899416\n",
      "\n",
      "Iteration:       1930000\n",
      "Validation RMSE: 0.858000870618\n",
      "Test RMSE      : 0.859750917734\n",
      "Best validation error up to now !\n",
      "\n",
      "Iteration:       1940000\n",
      "Validation RMSE: 0.864900479585\n",
      "\n",
      "Iteration:       1950000\n",
      "Validation RMSE: 0.857809958627\n",
      "Test RMSE      : 0.858786730714\n",
      "Best validation error up to now !\n",
      "\n",
      "Iteration:       1960000\n",
      "Validation RMSE: 0.857255567699\n",
      "Test RMSE      : 0.858613958564\n",
      "Best validation error up to now !\n",
      "\n",
      "Iteration:       1970000\n",
      "Validation RMSE: 0.857166865574\n",
      "Test RMSE      : 0.859005400614\n",
      "Best validation error up to now !\n",
      "\n",
      "Iteration:       1980000\n",
      "Validation RMSE: 0.857214321344\n",
      "\n",
      "Iteration:       1990000\n",
      "Validation RMSE: 0.863154714188\n",
      "\n",
      "Iteration:       2000000\n",
      "Validation RMSE: 0.860916589357\n",
      "\n",
      "Iteration:       2010000\n",
      "Validation RMSE: 0.85689077548\n",
      "Test RMSE      : 0.857230284984\n",
      "Best validation error up to now !\n",
      "\n",
      "Iteration:       2020000\n",
      "Validation RMSE: 0.857347774461\n",
      "\n",
      "Iteration:       2030000\n",
      "Validation RMSE: 0.857606120004\n",
      "\n",
      "Iteration:       2040000\n",
      "Validation RMSE: 0.859887199302\n",
      "\n",
      "Iteration:       2050000\n",
      "Validation RMSE: 0.858992045228\n",
      "\n",
      "Iteration:       2060000\n",
      "Validation RMSE: 0.856191825761\n",
      "Test RMSE      : 0.858106427261\n",
      "Best validation error up to now !\n",
      "\n",
      "Iteration:       2070000\n",
      "Validation RMSE: 0.857357809383\n",
      "\n",
      "Iteration:       2080000\n",
      "Validation RMSE: 0.857022251012\n",
      "\n",
      "Iteration:       2090000\n",
      "Validation RMSE: 0.858499359975\n",
      "\n",
      "Iteration:       2100000\n",
      "Validation RMSE: 0.858409295061\n",
      "\n",
      "Iteration:       2110000\n",
      "Validation RMSE: 0.858753145147\n",
      "\n",
      "Iteration:       2120000\n",
      "Validation RMSE: 0.858194517884\n",
      "\n",
      "Iteration:       2130000\n",
      "Validation RMSE: 0.864713013642\n",
      "\n",
      "Iteration:       2140000\n",
      "Validation RMSE: 0.858412908158\n",
      "\n",
      "Iteration:       2150000\n",
      "Validation RMSE: 0.857148376912\n",
      "\n",
      "Iteration:       2160000\n",
      "Validation RMSE: 0.857272262025\n",
      "\n",
      "Iteration:       2170000\n",
      "Validation RMSE: 0.857075535294\n",
      "\n",
      "Iteration:       2180000\n",
      "Validation RMSE: 0.857300595044\n",
      "\n",
      "Iteration:       2190000\n",
      "Validation RMSE: 0.857434810969\n",
      "\n",
      "Iteration:       2200000\n",
      "Validation RMSE: 0.856785464287\n",
      "\n",
      "Iteration:       2210000\n",
      "Validation RMSE: 0.858376563548\n",
      "\n",
      "Iteration:       2220000\n",
      "Validation RMSE: 0.85610899349\n",
      "Test RMSE      : 0.857800730441\n",
      "Best validation error up to now !\n",
      "\n",
      "Iteration:       2230000\n",
      "Validation RMSE: 0.857834845371\n",
      "\n",
      "Iteration:       2240000\n",
      "Validation RMSE: 0.856848546746\n",
      "\n",
      "Iteration:       2250000\n",
      "Validation RMSE: 0.861207576818\n",
      "\n",
      "Iteration:       2260000\n",
      "Validation RMSE: 0.857612603888\n",
      "\n",
      "Iteration:       2270000\n",
      "Validation RMSE: 0.857061522962\n",
      "\n",
      "Iteration:       2280000\n",
      "Validation RMSE: 0.859992111505\n",
      "\n",
      "Iteration:       2290000\n",
      "Validation RMSE: 0.857487579502\n",
      "\n",
      "Iteration:       2300000\n",
      "Validation RMSE: 0.856449888062\n",
      "\n",
      "Iteration:       2310000\n",
      "Validation RMSE: 0.855829745181\n",
      "Test RMSE      : 0.856523966898\n",
      "Best validation error up to now !\n",
      "\n",
      "Iteration:       2320000\n",
      "Validation RMSE: 0.855840395522\n",
      "\n",
      "Iteration:       2330000\n",
      "Validation RMSE: 0.860585150083\n",
      "\n",
      "Iteration:       2340000\n",
      "Validation RMSE: 0.856678465115\n",
      "\n",
      "Iteration:       2350000\n",
      "Validation RMSE: 0.85603010254\n",
      "\n",
      "Iteration:       2360000\n",
      "Validation RMSE: 0.856602905623\n",
      "\n",
      "Iteration:       2370000\n",
      "Validation RMSE: 0.855195144006\n",
      "Test RMSE      : 0.856459963831\n",
      "Best validation error up to now !\n",
      "\n",
      "Iteration:       2380000\n",
      "Validation RMSE: 0.858910139784\n",
      "\n",
      "Iteration:       2390000\n",
      "Validation RMSE: 0.855443912014\n",
      "\n",
      "Iteration:       2400000\n",
      "Validation RMSE: 0.855824180244\n",
      "\n",
      "Iteration:       2410000\n",
      "Validation RMSE: 0.860059281528\n",
      "\n",
      "Iteration:       2420000\n",
      "Validation RMSE: 0.854358003374\n",
      "Test RMSE      : 0.856850799552\n",
      "Best validation error up to now !\n",
      "\n",
      "Iteration:       2430000\n",
      "Validation RMSE: 0.855412764256\n",
      "\n",
      "Iteration:       2440000\n",
      "Validation RMSE: 0.861537855062\n",
      "\n",
      "Iteration:       2450000\n",
      "Validation RMSE: 0.860384256104\n",
      "\n",
      "Iteration:       2460000\n",
      "Validation RMSE: 0.856431284058\n",
      "\n",
      "Iteration:       2470000\n",
      "Validation RMSE: 0.855707811097\n",
      "\n",
      "Iteration:       2480000\n",
      "Validation RMSE: 0.855348658787\n",
      "\n",
      "Iteration:       2490000\n",
      "Validation RMSE: 0.857071595368\n",
      "\n",
      "Iteration:       2500000\n",
      "Validation RMSE: 0.855460628505\n",
      "\n",
      "Iteration:       2510000\n",
      "Validation RMSE: 0.854750152091\n",
      "\n",
      "Iteration:       2520000\n",
      "Validation RMSE: 0.854758530474\n",
      "\n",
      "Iteration:       2530000\n",
      "Validation RMSE: 0.855484811627\n",
      "\n",
      "Iteration:       2540000\n",
      "Validation RMSE: 0.855109728591\n",
      "\n",
      "Iteration:       2550000\n",
      "Validation RMSE: 0.855355140483\n",
      "\n",
      "Iteration:       2560000\n",
      "Validation RMSE: 0.855868625284\n",
      "\n",
      "Iteration:       2570000\n",
      "Validation RMSE: 0.856982764468\n",
      "\n",
      "Iteration:       2580000\n",
      "Validation RMSE: 0.856026258844\n",
      "\n",
      "Iteration:       2590000\n",
      "Validation RMSE: 0.857299383653\n",
      "\n",
      "Iteration:       2600000\n",
      "Validation RMSE: 0.857508797344\n",
      "\n",
      "Iteration:       2610000\n",
      "Validation RMSE: 0.856165796024\n",
      "\n",
      "Iteration:       2620000\n",
      "Validation RMSE: 0.856935174153\n",
      "Exceed patience for optimization, stopping!\n",
      "Optimization time :  6.5625 minutes\n"
     ]
    }
   ],
   "source": [
    "start_time = time.time()\n",
    "\n",
    "while True:\n",
    "    try:\n",
    "        if sgd_iteration_count%update_frequency == 0:\n",
    "            train_set_rmse = get_trainset_rmse()\n",
    "            valid_set_rmse = get_validset_rmse()\n",
    "            test_set_rmse = get_testset_rmse()\n",
    "            \n",
    "            train_errors.append(train_set_rmse)\n",
    "            valid_errors.append(valid_set_rmse)\n",
    "            test_errors.append(test_set_rmse)\n",
    "            \n",
    "            print 'Iteration:      ', sgd_iteration_count\n",
    "            print 'Validation RMSE:', valid_set_rmse\n",
    "\n",
    "            if valid_set_rmse < best_validation_rmse:\n",
    "                print 'Test RMSE      :', test_set_rmse\n",
    "                print 'Best validation error up to now !'\n",
    "                patience = 0\n",
    "                best_validation_rmse = valid_set_rmse\n",
    "                best_parameters = model.save_parameters()\n",
    "            else:\n",
    "                patience += 1\n",
    "                if patience >= 20:\n",
    "                    print 'Exceed patience for optimization, stopping!'\n",
    "                    break\n",
    "            print\n",
    "        training_idx = sample_random_training_index()\n",
    "        user, item, rating = train_ratings[training_idx]\n",
    "        model.update_parameters(user, item, rating)\n",
    "        sgd_iteration_count += 1\n",
    "    except KeyboardInterrupt:\n",
    "        print 'Stopped Optimization'\n",
    "        print 'Current valid set performance=%s' % compute_rmse(model.predict(*valid_ratings.T[:2]), valid_ratings[:,2])\n",
    "        print 'Current test set performance=%s' % compute_rmse(model.predict(*test_ratings.T[:2]), test_ratings[:,2])\n",
    "        break\n",
    "        \n",
    "model.load_parameters(best_parameters)\n",
    "stop_time = time.time()\n",
    "\n",
    "print 'Optimization time : ', (stop_time - start_time)/60., 'minutes'"
   ]
  },
  {
   "cell_type": "markdown",
   "metadata": {},
   "source": [
    "### How much should be wait? \n",
    "### How good is the model? \n",
    "### Is the optimization ok?\n",
    "\n",
    "### Lets first try to answer some of these questions by looking at the so-called learning curve"
   ]
  },
  {
   "cell_type": "code",
   "execution_count": 69,
   "metadata": {
    "collapsed": false
   },
   "outputs": [
    {
     "data": {
      "text/plain": [
       "<matplotlib.legend.Legend at 0x49670fd0>"
      ]
     },
     "execution_count": 69,
     "metadata": {},
     "output_type": "execute_result"
    },
    {
     "data": {
      "image/png": "[encoded data removed]",
      "text/plain": [
       "<matplotlib.figure.Figure at 0x49637e10>"
      ]
     },
     "metadata": {},
     "output_type": "display_data"
    }
   ],
   "source": [
    "x = update_frequency * np.arange(len(train_errors))\n",
    "fig = plt.figure(num=None, figsize=(10, 10), dpi=500)\n",
    "plt.plot(x, train_errors, 'r--', x, valid_errors, 'bs', x, test_errors, 'g^')\n",
    "plt.legend(['training error', 'validation error', 'testing error'])"
   ]
  },
  {
   "cell_type": "markdown",
   "metadata": {},
   "source": [
    "### We can see that most of the learning is done early during the optimization. But better results can be achieved by waiting a bit.\n",
    "\n",
    "### Training error will always be lower than validation and testing error. When the difference is too great we call this \"overfitting\".\n",
    "\n",
    "- #### Bigger embedding size can lead to more overfitting. \n",
    "- #### Smaller size will overfit less, but may perform more poorly on the test set. The best is somewhere in between...\n",
    "\n",
    "### There are also many other things we can do to improve the performance and \"generalization\":\n",
    "\n",
    "- #### Regularization : forcing embeddings to be smaller, so that its harder to overfit. Different coefficients for user/item bias and embedding.\n",
    "- #### Learning rate reduction : reducing the learning rate in the later stages of training can help.\n",
    "- #### Implicit feedback : use who rated what information, without the rating value\n",
    "- #### Tuning all the hyperparameters of the model (learning rate, embedding size, regularization, ...)\n",
    "- #### And many many more...\n"
   ]
  },
  {
   "cell_type": "markdown",
   "metadata": {},
   "source": [
    "# <center><font color=\"blue\">Evaluation!</font></center>"
   ]
  },
  {
   "cell_type": "markdown",
   "metadata": {},
   "source": [
    "### Now that we have a model, how do we evaluate it, and more importantly, how do we use it?"
   ]
  },
  {
   "cell_type": "code",
   "execution_count": 54,
   "metadata": {
    "collapsed": false,
    "scrolled": true
   },
   "outputs": [
    {
     "data": {
      "text/html": [
       "<div>\n",
       "<table border=\"1\" class=\"dataframe\">\n",
       "  <thead>\n",
       "    <tr style=\"text-align: right;\">\n",
       "      <th></th>\n",
       "      <th>movieId</th>\n",
       "      <th>prediction</th>\n",
       "      <th>rating</th>\n",
       "      <th>userId</th>\n",
       "    </tr>\n",
       "  </thead>\n",
       "  <tbody>\n",
       "    <tr>\n",
       "      <th>0</th>\n",
       "      <td>63481</td>\n",
       "      <td>3.076054</td>\n",
       "      <td>3.5</td>\n",
       "      <td>475</td>\n",
       "    </tr>\n",
       "    <tr>\n",
       "      <th>1</th>\n",
       "      <td>1259</td>\n",
       "      <td>4.507109</td>\n",
       "      <td>4.5</td>\n",
       "      <td>519</td>\n",
       "    </tr>\n",
       "    <tr>\n",
       "      <th>2</th>\n",
       "      <td>593</td>\n",
       "      <td>4.300616</td>\n",
       "      <td>5.0</td>\n",
       "      <td>326</td>\n",
       "    </tr>\n",
       "    <tr>\n",
       "      <th>3</th>\n",
       "      <td>54775</td>\n",
       "      <td>2.498114</td>\n",
       "      <td>1.5</td>\n",
       "      <td>668</td>\n",
       "    </tr>\n",
       "    <tr>\n",
       "      <th>4</th>\n",
       "      <td>3752</td>\n",
       "      <td>2.845089</td>\n",
       "      <td>1.0</td>\n",
       "      <td>468</td>\n",
       "    </tr>\n",
       "  </tbody>\n",
       "</table>\n",
       "</div>"
      ],
      "text/plain": [
       "   movieId  prediction  rating  userId\n",
       "0    63481    3.076054     3.5     475\n",
       "1     1259    4.507109     4.5     519\n",
       "2      593    4.300616     5.0     326\n",
       "3    54775    2.498114     1.5     668\n",
       "4     3752    2.845089     1.0     468"
      ]
     },
     "execution_count": 54,
     "metadata": {},
     "output_type": "execute_result"
    }
   ],
   "source": [
    "test_predictions = model.predict(*test_ratings.T[:2])\n",
    "test_df = pd.DataFrame({'userId': test_ratings[:, 0],\n",
    "                        'movieId': test_ratings[:, 1],\n",
    "                        'rating': test_ratings[:, 2],\n",
    "                        'prediction': test_predictions})\n",
    "test_df.head()"
   ]
  },
  {
   "cell_type": "markdown",
   "metadata": {
    "collapsed": true
   },
   "source": [
    "## Standard error metrics for global performance of test set"
   ]
  },
  {
   "cell_type": "code",
   "execution_count": 19,
   "metadata": {
    "collapsed": false
   },
   "outputs": [
    {
     "name": "stdout",
     "output_type": "stream",
     "text": [
      "Root Mean Squared Error\t\t0.856369783573\n",
      "Mean Absolute Error\t\t0.661424603843\n",
      "Mean Absolute Percentile Error\t28.5558836737 %\n"
     ]
    }
   ],
   "source": [
    "print 'Root Mean Squared Error\\t\\t', ((test_df.rating - test_df.prediction)**2).mean()**0.5\n",
    "print 'Mean Absolute Error\\t\\t', (test_df.rating - test_df.prediction).abs().mean()\n",
    "print 'Mean Absolute Percentile Error\\t', 100*((test_df.rating - test_df.prediction).abs() / test_df.rating).mean(), '%'"
   ]
  },
  {
   "cell_type": "code",
   "execution_count": 55,
   "metadata": {
    "collapsed": false
   },
   "outputs": [
    {
     "data": {
      "text/plain": [
       "<matplotlib.text.Text at 0x48c73f60>"
      ]
     },
     "execution_count": 55,
     "metadata": {},
     "output_type": "execute_result"
    },
    {
     "data": {
      "image/png": "[encoded data removed]",
      "text/plain": [
       "<matplotlib.figure.Figure at 0xd24a1d0>"
      ]
     },
     "metadata": {},
     "output_type": "display_data"
    }
   ],
   "source": [
    "plt.plot(*test_df.groupby('rating').prediction.mean().reset_index().values.T)\n",
    "plt.plot(np.arange(0, 6), np.arange(0, 6), '--')\n",
    "plt.xlim([0.5, 5])\n",
    "plt.ylim([0.5, 5])\n",
    "plt.xlabel('True Rating')\n",
    "plt.ylabel('Mean Predicted Rating')\n",
    "# the model is a bit more conservative, this is normal"
   ]
  },
  {
   "cell_type": "markdown",
   "metadata": {},
   "source": [
    "## Top-k metrics - precision @ top k across users"
   ]
  },
  {
   "cell_type": "code",
   "execution_count": 72,
   "metadata": {
    "collapsed": false
   },
   "outputs": [],
   "source": [
    "best_predicted_rating_per_user = test_df.groupby('userId').apply(lambda x: x.sort_values('prediction', ascending=False).head(1).rating)"
   ]
  },
  {
   "cell_type": "code",
   "execution_count": 73,
   "metadata": {
    "collapsed": true
   },
   "outputs": [],
   "source": [
    "best_rating_per_user = test_df.groupby('userId').apply(lambda x: x.sort_values('rating', ascending=False).head(1).rating)"
   ]
  },
  {
   "cell_type": "code",
   "execution_count": 74,
   "metadata": {
    "collapsed": false
   },
   "outputs": [],
   "source": [
    "mean_rating_per_user = test_df.groupby('userId').rating.mean()"
   ]
  },
  {
   "cell_type": "code",
   "execution_count": 24,
   "metadata": {
    "collapsed": false
   },
   "outputs": [
    {
     "name": "stdout",
     "output_type": "stream",
     "text": [
      "Best rating per user\t\t4.7263868066\n",
      "Best predicted rating per user\t4.14917541229\n",
      "Best mean rating per user\t3.6592404732\n"
     ]
    }
   ],
   "source": [
    "# Best rating per user - Best possible performance\n",
    "print 'Best rating per user\\t\\t', best_rating_per_user.mean()\n",
    "# Best predicted rating per user\n",
    "print 'Best predicted rating per user\\t', best_predicted_rating_per_user.mean()\n",
    "# Random or average performance - Used as baseline\n",
    "print 'Best mean rating per user\\t', mean_rating_per_user.mean()"
   ]
  },
  {
   "cell_type": "code",
   "execution_count": 43,
   "metadata": {
    "collapsed": false
   },
   "outputs": [
    {
     "data": {
      "text/plain": [
       "0.4817591204397799"
      ]
     },
     "execution_count": 43,
     "metadata": {},
     "output_type": "execute_result"
    }
   ],
   "source": [
    "# Precision across users\n",
    "# def precision(x, y):\n",
    "#     return float(len((set(x) & set(y)))) / len(y)\n",
    "\n",
    "# test_df.groupby('userId').apply(lambda x: precision(x.sort_values('rating').tail(3).movieId, \n",
    "#                                                     x.sort_values('prediction').tail(3).movieId)).mean()"
   ]
  },
  {
   "cell_type": "markdown",
   "metadata": {},
   "source": [
    "## There are as many performance metrics as you can imagine."
   ]
  },
  {
   "cell_type": "markdown",
   "metadata": {},
   "source": [
    "# But the most important is... <font color=\"red\">business validation</font>!\n",
    "- ## Looking at how the model will behave in practice"
   ]
  },
  {
   "cell_type": "markdown",
   "metadata": {},
   "source": [
    "## One way of looking at embeddings is comparing them together"
   ]
  },
  {
   "cell_type": "code",
   "execution_count": 26,
   "metadata": {
    "collapsed": false
   },
   "outputs": [],
   "source": [
    "movies_embeddings = dict([(i, model.V[i]) for i in movies.index.values])\n",
    "\n",
    "def compute_cosine_similarity(movieId):\n",
    "    movie_embedding = movies_embeddings[movieId]\n",
    "    movie_embedding_norm = (movie_embedding**2).sum()**0.5\n",
    "    similarity = dict([(movie, ((movie_embedding*emb).sum()) / (((emb**2).sum()**0.5) * movie_embedding_norm))\n",
    "                              for (movie, emb) in movies_embeddings.iteritems()])\n",
    "    return  similarity\n",
    "\n",
    "def compute_euclidian_similarity(movieId):\n",
    "    movie_embedding = movies_embeddings[movieId]\n",
    "    similarity = dict([(movie, -((movie_embedding-emb)**2).sum()**0.5)\n",
    "                              for (movie, emb) in movies_embeddings.iteritems()])\n",
    "    return  similarity"
   ]
  },
  {
   "cell_type": "code",
   "execution_count": 79,
   "metadata": {
    "collapsed": false
   },
   "outputs": [
    {
     "data": {
      "text/html": [
       "<div>\n",
       "<table border=\"1\" class=\"dataframe\">\n",
       "  <thead>\n",
       "    <tr style=\"text-align: right;\">\n",
       "      <th></th>\n",
       "      <th>title</th>\n",
       "      <th>genres</th>\n",
       "    </tr>\n",
       "    <tr>\n",
       "      <th>movieId</th>\n",
       "      <th></th>\n",
       "      <th></th>\n",
       "    </tr>\n",
       "  </thead>\n",
       "  <tbody>\n",
       "    <tr>\n",
       "      <th>5989</th>\n",
       "      <td>Catch Me If You Can (2002)</td>\n",
       "      <td>Crime|Drama</td>\n",
       "    </tr>\n",
       "  </tbody>\n",
       "</table>\n",
       "</div>"
      ],
      "text/plain": [
       "                              title       genres\n",
       "movieId                                         \n",
       "5989     Catch Me If You Can (2002)  Crime|Drama"
      ]
     },
     "execution_count": 79,
     "metadata": {},
     "output_type": "execute_result"
    }
   ],
   "source": [
    "movies[movies.title.str.startswith('Catch Me')]"
   ]
  },
  {
   "cell_type": "code",
   "execution_count": 80,
   "metadata": {
    "collapsed": false
   },
   "outputs": [
    {
     "name": "stdout",
     "output_type": "stream",
     "text": [
      "Closest\n",
      "1 Inception (2010) \tAction|Crime|Drama|Mystery|Sci-Fi|Thriller|IMAX 1.0\n",
      "\n",
      "2 Catch Me If You Can (2002) \tCrime|Drama 0.400577381761\n",
      "\n",
      "3 Harsh Times (2006) \tAction|Crime|Drama 0.356626015612\n",
      "\n",
      "4 Nil By Mouth (1997) \tDrama 0.353746282517\n",
      "\n",
      "5 Man Who Would Be King, The (1975) \tAdventure|Drama 0.348748794053\n",
      "\n",
      "6 Deceiver (1997) \tCrime|Drama|Thriller 0.34874427999\n",
      "\n",
      "7 Dark Knight, The (2008) \tAction|Crime|Drama|IMAX 0.347479039951\n",
      "\n",
      "8 Gladiator (2000) \tAction|Adventure|Drama 0.344685020358\n",
      "\n",
      "9 Knockaround Guys (2002) \tAction|Comedy|Crime 0.337536329568\n",
      "\n",
      "10 Avatar (2009) \tAction|Adventure|Sci-Fi|IMAX 0.336359783913\n",
      "\n",
      "11 Dr. Horrible's Sing-Along Blog (2008) \tComedy|Drama|Musical|Sci-Fi 0.332376023125\n",
      "\n",
      "12 Living Daylights, The (1987) \tAction|Adventure|Thriller 0.33086798929\n",
      "\n",
      "13 Charlie Brown Christmas, A (1965) \tAnimation|Children|Comedy 0.321642422732\n",
      "\n",
      "14 Snow White and the Huntsman (2012) \tAction|Adventure|Drama 0.319539730214\n",
      "\n",
      "15 Wolf Creek (2005) \tCrime|Horror|Thriller 0.315409301213\n",
      "\n",
      "Farthest\n",
      "15 Graveyard Shift (Stephen King's Graveyard Shift) (1990)\n",
      "\tHorror|Thriller -0.304293223281\n",
      "\n",
      "14 Slums of Beverly Hills, The (1998)\n",
      "\tComedy|Drama -0.305179895983\n",
      "\n",
      "13 Big Bad Mama (1974)\n",
      "\tAction|Comedy -0.307258866025\n",
      "\n",
      "12 Nicholas and Alexandra (1971)\n",
      "\tDrama|War -0.307818351481\n",
      "\n",
      "11 Marmaduke (2010)\n",
      "\tComedy -0.313963534881\n",
      "\n",
      "10 Paranormal Activity (2009)\n",
      "\tHorror|Thriller -0.321391049494\n",
      "\n",
      "9 Hobbit: The Desolation of Smaug, The (2013)\n",
      "\tAdventure|Fantasy|IMAX -0.322724638139\n",
      "\n",
      "8 Tampopo (1985)\n",
      "\tComedy -0.326829662402\n",
      "\n",
      "7 Definitely, Maybe (2008)\n",
      "\tComedy|Drama|Romance -0.328157993908\n",
      "\n",
      "6 O Brother, Where Art Thou? (2000)\n",
      "\tAdventure|Comedy|Crime -0.328974166473\n",
      "\n",
      "5 Brother Bear (2003)\n",
      "\tAdventure|Animation|Children -0.349212623673\n",
      "\n",
      "4 Salvage (2009)\n",
      "\tHorror -0.353137043045\n",
      "\n",
      "3 Transformers: Age of Extinction (2014)\n",
      "\tAction|Adventure|Sci-Fi -0.367806799534\n",
      "\n",
      "2 Captain Ron (1992)\n",
      "\tAdventure|Comedy -0.408997574573\n",
      "\n",
      "1 Indiana Jones and the Kingdom of the Crystal Skull (2008)\n",
      "\tAction|Adventure|Comedy|Sci-Fi -0.416202591793\n",
      "\n",
      "0 Gandhi (1982)\n",
      "\tDrama -0.487911739027\n",
      "\n"
     ]
    }
   ],
   "source": [
    "# movieId = 5952 # lord of the rings\n",
    "movieId = 79132 # inception\n",
    "# movieId = 1 # toy story\n",
    "\n",
    "sorted_movies = sorted(compute_cosine_similarity(movieId).items(), key = lambda x:x[1])\n",
    "# sorted_movies = sorted(compute_euclidian_similarity(movieId).items(), key = lambda x:x[1])\n",
    "\n",
    "print 'Closest'\n",
    "for i in range(1, 16):\n",
    "    id, sim = sorted_movies[-i]\n",
    "    print i, movies.loc[id].title, '\\t', movies.loc[id].genres, sim\n",
    "    print\n",
    "\n",
    "print 'Farthest'\n",
    "for i in range(15,-1,-1):\n",
    "    id, sim = sorted_movies[i]\n",
    "    print i, movies.loc[id].title\n",
    "    print '\\t', movies.loc[id].genres, sim\n",
    "    print"
   ]
  },
  {
   "cell_type": "markdown",
   "metadata": {
    "collapsed": true
   },
   "source": [
    "# Although this is one way, the real way would be to create user profiles yourself, and see what the system can recommend, maybe watch it yourself :)"
   ]
  },
  {
   "cell_type": "markdown",
   "metadata": {
    "collapsed": true
   },
   "source": [
    "# Useful links and sources\n",
    "- Main reference paper : https://datajobs.com/data-science-repo/Recommender-Systems-[Netflix].pdf\n",
    "- Netflix Prize solutions & papers published with the Netflix dataset \n",
    "- Collaborative Filtering Datasets : https://gist.github.com/entaroadun/1653794"
   ]
  },
  {
   "cell_type": "markdown",
   "metadata": {},
   "source": [
    "# Thank you!"
   ]
  },
  {
   "cell_type": "markdown",
   "metadata": {},
   "source": [
    "# Questions?"
   ]
  }
 ],
 "metadata": {
  "kernelspec": {
   "display_name": "Python [Root]",
   "language": "python",
   "name": "Python [Root]"
  },
  "language_info": {
   "codemirror_mode": {
    "name": "ipython",
    "version": 3
   },
   "file_extension": ".py",
   "mimetype": "text/x-python",
   "name": "python",
   "nbconvert_exporter": "python",
   "pygments_lexer": "ipython3",
   "version": "3.5.2"
  }
 },
 "nbformat": 4,
 "nbformat_minor": 0
}
